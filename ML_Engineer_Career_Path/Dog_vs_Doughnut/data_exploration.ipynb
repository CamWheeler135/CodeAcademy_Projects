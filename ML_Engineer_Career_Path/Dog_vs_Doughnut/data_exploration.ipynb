{
 "cells": [
  {
   "cell_type": "markdown",
   "metadata": {},
   "source": [
    "# Data and EDA\n",
    "\n",
    "We have downloaded our respective datasets, but we need to separate the data that we want, from the datasets that we have. \n",
    "\n",
    "### Datasets\n",
    "\n",
    "#### Fast Food Classification V2\n",
    "```\n",
    "- test\n",
    "|   |\n",
    "|   - folders of class\n",
    "|              |\n",
    "|              - images of class.\n",
    "- train\n",
    "|   |\n",
    "|   - folders of class\n",
    "|              |\n",
    "|              - images of class.\n",
    "- valid\n",
    "|   |\n",
    "|   - folders of class\n",
    "|              |\n",
    "|              - images of class.\n",
    "```\n",
    "\n",
    "#### Oxford Pets\n",
    "```\n",
    "- annotations\n",
    "|   |\n",
    "|   - information about the dataset.\n",
    "|              \n",
    "- images\n",
    "|   |\n",
    "|   - the images of the dataset (title has label in it).\n",
    "|              \n",
    "- valid\n",
    "|   |\n",
    "|   - folders of class\n",
    "|              |\n",
    "|              - images of class.\n",
    "```\n",
    "\n",
    "#### Stanford Dogs\n",
    "```\n",
    "- annotations\n",
    "|   |\n",
    "|   - Annotation\n",
    "|              |\n",
    "|              - folders of each class\n",
    "|                        |\n",
    "|                        - annotation information for each image in the classes.\n",
    "|\n",
    "- images\n",
    "|   |\n",
    "|   - Images\n",
    "|        |\n",
    "|        - folders of each class 'c'\n",
    "|                   |\n",
    "|                   - images of dogs belonging to class 'c'.\n",
    "```\n",
    "\n",
    "We are going to be using PyTorch Datasets, specifically we are going to use the `ImageFolder` so eventually, we need to get our dataset into the format of `root/class_folders/images`. "
   ]
  },
  {
   "cell_type": "markdown",
   "metadata": {},
   "source": [
    "## Creating Our Dataset"
   ]
  },
  {
   "cell_type": "code",
   "execution_count": 1,
   "metadata": {},
   "outputs": [],
   "source": [
    "from pathlib import Path\n",
    "import os\n",
    "import shutil"
   ]
  },
  {
   "cell_type": "code",
   "execution_count": 2,
   "metadata": {},
   "outputs": [],
   "source": [
    "# Data directories.\n",
    "root_data_dir = Path.cwd() / \"original_data\"\n",
    "fast_food = root_data_dir / \"Fast Food Classification V2\"\n",
    "oxford_pets = root_data_dir / \"OxfordPets\"\n",
    "stanford_dogs = root_data_dir / \"StanfordDogs\"\n"
   ]
  },
  {
   "cell_type": "markdown",
   "metadata": {},
   "source": [
    "#### Sorting Oxford Pet Dataset\n",
    "\n",
    "Lets now sort out how to collect each of our samples from the Oxford Pet Dataset, we are dealing with cats and dogs in this dataset, luckily the makers have given all the dog images names that start with a lower case letter, and cat images names that start with an upper case letter. \n",
    "\n",
    "We are going to scan the directory, if the letter is lowercase, we will create a folder for that dog type, then fill it with all of the images of that class of dog. "
   ]
  },
  {
   "cell_type": "code",
   "execution_count": 7,
   "metadata": {},
   "outputs": [],
   "source": [
    "def collect_class_names(source_dir):\n",
    "    class_names = []\n",
    "    for dir_object in os.scandir(source_dir):\n",
    "        if dir_object.name[0].islower():\n",
    "            name = dir_object.name.split('_')[:-1]\n",
    "            name = \"_\".join(name)\n",
    "            class_names.append(name)\n",
    "    return class_names\n",
    "\n",
    "def create_dirs(class_names:list, source_folder:Path, destination_folder:Path):\n",
    "    for class_name in class_names:\n",
    "        \n",
    "        class_dir = destination_folder / class_name\n",
    "        if not ((destination_folder / class_name).is_dir()):\n",
    "            os.mkdir(class_dir)\n",
    "\n",
    "        for img_path in os.listdir(source_folder):\n",
    "            if class_name in img_path:\n",
    "                shutil.move(source_folder / img_path, destination_folder / class_name)\n",
    "\n",
    "source_dir = oxford_pets / \"images\"\n",
    "destination_dir = Path(\"./data/\")\n",
    "class_names = collect_class_names(source_dir)\n",
    "create_dirs(class_names, source_dir, destination_dir)\n",
    "\n",
    "\n"
   ]
  },
  {
   "cell_type": "markdown",
   "metadata": {},
   "source": [
    "Okay so we have now got a certain amount of our dog data into class folders. We can now either add the Stanford dogs to the existing folders (if we already have data for them) or we create new folders and add them there. \n",
    "\n",
    "\n",
    "#### Sorting Stanford Dogs Dataset"
   ]
  },
  {
   "cell_type": "code",
   "execution_count": 14,
   "metadata": {},
   "outputs": [],
   "source": [
    "for class_folder in os.scandir(stanford_dogs / \"images/Images\"):\n",
    "    \n",
    "    # getting the class names\n",
    "    class_name = class_folder.name.lower().split('-')[1:]\n",
    "    class_name = \"_\".join(class_name)\n",
    "\n",
    "    # checking if the class dir already exists, if not, make one\n",
    "    class_dir = Path('./data/' + class_name)\n",
    "    if not class_dir.is_dir():\n",
    "        os.mkdir(class_dir)\n",
    "\n",
    "    if \".DS_Store\" in class_folder.path:\n",
    "        continue\n",
    "\n",
    "    for img in os.listdir(class_folder.path):\n",
    "        img_path = os.path.join(class_folder.path, img)\n",
    "        shutil.move(img_path, class_dir)\n"
   ]
  },
  {
   "cell_type": "markdown",
   "metadata": {},
   "source": [
    "Okay, so we have all of our classes together. We have the different breeds of dogs and we have the photos of donuts. We have ALOT of classes, alot more than I originally expected, lets do some filtering and remove some classes then we will do some EDA."
   ]
  },
  {
   "cell_type": "code",
   "execution_count": null,
   "metadata": {},
   "outputs": [],
   "source": []
  }
 ],
 "metadata": {
  "kernelspec": {
   "display_name": "dogvsdoughnut",
   "language": "python",
   "name": "python3"
  },
  "language_info": {
   "codemirror_mode": {
    "name": "ipython",
    "version": 3
   },
   "file_extension": ".py",
   "mimetype": "text/x-python",
   "name": "python",
   "nbconvert_exporter": "python",
   "pygments_lexer": "ipython3",
   "version": "3.11.6"
  }
 },
 "nbformat": 4,
 "nbformat_minor": 2
}
