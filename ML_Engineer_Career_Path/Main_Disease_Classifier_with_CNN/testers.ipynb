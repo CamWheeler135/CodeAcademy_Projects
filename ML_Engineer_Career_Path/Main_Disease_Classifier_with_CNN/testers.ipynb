{
 "cells": [
  {
   "cell_type": "code",
   "execution_count": 19,
   "metadata": {},
   "outputs": [],
   "source": [
    "from pathlib import Path\n",
    "import os\n",
    "import pandas as pd\n",
    "import numpy as np\n"
   ]
  },
  {
   "cell_type": "code",
   "execution_count": 11,
   "metadata": {},
   "outputs": [
    {
     "name": "stdout",
     "output_type": "stream",
     "text": [
      "data/cleaned_files/lymphoblastic_leukemia.csv\n",
      "data/cleaned_files/hematological_cancer.csv\n",
      "data/cleaned_files/myeloid_leukemia.csv\n",
      "data/cleaned_files/gastric.csv\n",
      "data/cleaned_files/lung.csv\n",
      "data/cleaned_files/liver.csv\n",
      "data/cleaned_files/colorectal.csv\n",
      "data/cleaned_files/glioblastoma.csv\n",
      "data/cleaned_files/breast.csv\n",
      "data/cleaned_files/esophageal.csv\n",
      "['lymphoblastic_leukemia.csv', 'hematological_cancer.csv', 'myeloid_leukemia.csv', 'gastric.csv', 'lung.csv', 'liver.csv', 'colorectal.csv', 'glioblastoma.csv', 'breast.csv', 'esophageal.csv']\n"
     ]
    }
   ],
   "source": [
    "\n",
    "p = Path('data/cleaned_files')\n",
    "\n",
    "for path in p.iterdir():\n",
    "    print(path)\n",
    "\n",
    "\n",
    "print(os.listdir(p))"
   ]
  },
  {
   "cell_type": "code",
   "execution_count": 27,
   "metadata": {},
   "outputs": [
    {
     "name": "stdout",
     "output_type": "stream",
     "text": [
      "   A  C\n",
      "0  1  3\n",
      "1  4  6\n",
      "2  7  9\n"
     ]
    }
   ],
   "source": [
    "df = pd.DataFrame(np.array([[1, 2, 3], [4, 5, 6], [7, 8, 9]]),\n",
    "                   columns=['A', 'B', 'C'])\n",
    "\n",
    "correct_order = ['A', 'C']\n",
    "\n",
    "df = df.reindex(columns=correct_order)\n",
    "\n",
    "print(df)"
   ]
  },
  {
   "cell_type": "code",
   "execution_count": 28,
   "metadata": {},
   "outputs": [
    {
     "name": "stdout",
     "output_type": "stream",
     "text": [
      "Index(['A', 'C'], dtype='object')\n"
     ]
    }
   ],
   "source": [
    "if set(['A','C']).issubset(df.columns):\n",
    "    print(df.columns)"
   ]
  },
  {
   "cell_type": "code",
   "execution_count": null,
   "metadata": {},
   "outputs": [],
   "source": []
  }
 ],
 "metadata": {
  "kernelspec": {
   "display_name": ".venv",
   "language": "python",
   "name": "python3"
  },
  "language_info": {
   "codemirror_mode": {
    "name": "ipython",
    "version": 3
   },
   "file_extension": ".py",
   "mimetype": "text/x-python",
   "name": "python",
   "nbconvert_exporter": "python",
   "pygments_lexer": "ipython3",
   "version": "3.10.4"
  },
  "orig_nbformat": 4
 },
 "nbformat": 4,
 "nbformat_minor": 2
}
