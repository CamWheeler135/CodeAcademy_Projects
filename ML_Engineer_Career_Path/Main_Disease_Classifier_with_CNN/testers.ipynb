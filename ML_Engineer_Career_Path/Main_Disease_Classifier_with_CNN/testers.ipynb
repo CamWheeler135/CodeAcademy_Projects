{
 "cells": [
  {
   "cell_type": "code",
   "execution_count": 26,
   "metadata": {},
   "outputs": [],
   "source": [
    "from pathlib import Path\n",
    "import os\n",
    "import pandas as pd\n",
    "import numpy as np\n",
    "import nltk\n",
    "import time\n",
    "from itertools import product\n",
    "\n"
   ]
  },
  {
   "cell_type": "code",
   "execution_count": 11,
   "metadata": {},
   "outputs": [
    {
     "name": "stdout",
     "output_type": "stream",
     "text": [
      "data/cleaned_files/lymphoblastic_leukemia.csv\n",
      "data/cleaned_files/hematological_cancer.csv\n",
      "data/cleaned_files/myeloid_leukemia.csv\n",
      "data/cleaned_files/gastric.csv\n",
      "data/cleaned_files/lung.csv\n",
      "data/cleaned_files/liver.csv\n",
      "data/cleaned_files/colorectal.csv\n",
      "data/cleaned_files/glioblastoma.csv\n",
      "data/cleaned_files/breast.csv\n",
      "data/cleaned_files/esophageal.csv\n",
      "['lymphoblastic_leukemia.csv', 'hematological_cancer.csv', 'myeloid_leukemia.csv', 'gastric.csv', 'lung.csv', 'liver.csv', 'colorectal.csv', 'glioblastoma.csv', 'breast.csv', 'esophageal.csv']\n"
     ]
    }
   ],
   "source": [
    "\n",
    "p = Path('data/cleaned_files')\n",
    "\n",
    "for path in p.iterdir():\n",
    "    print(path)\n",
    "\n",
    "\n",
    "print(os.listdir(p))"
   ]
  },
  {
   "cell_type": "code",
   "execution_count": 27,
   "metadata": {},
   "outputs": [
    {
     "name": "stdout",
     "output_type": "stream",
     "text": [
      "   A  C\n",
      "0  1  3\n",
      "1  4  6\n",
      "2  7  9\n"
     ]
    }
   ],
   "source": [
    "df = pd.DataFrame(np.array([[1, 2, 3], [4, 5, 6], [7, 8, 9]]),\n",
    "                   columns=['A', 'B', 'C'])\n",
    "\n",
    "correct_order = ['A', 'C']\n",
    "\n",
    "df = df.reindex(columns=correct_order)\n",
    "\n",
    "print(df)"
   ]
  },
  {
   "cell_type": "code",
   "execution_count": 28,
   "metadata": {},
   "outputs": [
    {
     "name": "stdout",
     "output_type": "stream",
     "text": [
      "Index(['A', 'C'], dtype='object')\n"
     ]
    }
   ],
   "source": [
    "if set(['A','C']).issubset(df.columns):\n",
    "    print(df.columns)"
   ]
  },
  {
   "cell_type": "code",
   "execution_count": 23,
   "metadata": {},
   "outputs": [
    {
     "name": "stdout",
     "output_type": "stream",
     "text": [
      "0     AGGAGAAGAAGA \n",
      "dtype: object\n",
      "0   NaN\n",
      "dtype: float64\n"
     ]
    }
   ],
   "source": [
    "word = pd.Series(' AGGAGAAGAAGA ')\n",
    "print(word)\n",
    "word = word.str.strip()\n",
    "word = (word.str.split(''))\n"
   ]
  },
  {
   "cell_type": "code",
   "execution_count": 38,
   "metadata": {},
   "outputs": [
    {
     "name": "stdout",
     "output_type": "stream",
     "text": [
      "1.7583160400390625\n",
      "{'AA': 0, 'AC': 0, 'AG': 5000000, 'AT': 0, 'CA': 0, 'YA': 0, 'CG': 0, 'YG': 0, 'GA': 4999999, 'GC': 0, 'GG': 2000000, 'GT': 0, 'TA': 0, 'TC': 0, 'TG': 0, 'TT': 0, 'AY': 0}\n"
     ]
    }
   ],
   "source": [
    "sequence = ['AGGAGAGGAGAG' * 1000000]\n",
    "kmer_vals = {'AA': 0, 'AC': 0, 'AG': 0, 'AT': 0, 'CA': 0, 'YA': 0, 'CG': 0, 'YG': 0, 'GA': 0, 'GC': 0, 'GG': 0, 'GT': 0, 'TA': 0, 'TC': 0, 'TG': 0, 'TT': 0, 'AY': 0}\n",
    "\n",
    "start = time.time()\n",
    "for sequence in sequence:\n",
    "    kmer_iterator = nltk.bigrams(sequence)\n",
    "    for kmer in kmer_iterator:\n",
    "        kmer_vals[''.join(kmer)] += 1 \n",
    "\n",
    "end = time.time()\n",
    "print(end - start)\n",
    "print(kmer_vals)\n",
    "\n",
    "\n",
    "\n"
   ]
  },
  {
   "cell_type": "code",
   "execution_count": 39,
   "metadata": {},
   "outputs": [
    {
     "name": "stdout",
     "output_type": "stream",
     "text": [
      "36.326857805252075\n",
      "[0, 0, 0, 0, 0, 0, 0, 5000000, 0, 0, 0, 0, 0, 0, 0, 0, 0, 0, 0, 0, 0, 0, 0, 0, 0, 0, 0, 0, 0, 0, 0, 0, 0, 0, 0, 0, 0, 0, 0, 0, 0, 0, 0, 0, 0, 0, 0, 0, 0, 0, 0, 0, 0, 0, 0, 0, 0, 0, 0, 0, 0, 0, 0, 0, 0, 0, 0, 0, 0, 0, 0, 0, 0, 0, 0, 0, 0, 0, 0, 0, 0, 0, 0, 0, 0, 0, 0, 0, 0, 0, 0, 0, 0, 0, 0, 0, 0, 0, 0, 0, 0, 0, 0, 0, 0, 0, 0, 0, 0, 0, 0, 0, 0, 0, 0, 0, 0, 0, 0, 0, 0, 0, 0, 0, 0, 0, 0, 0, 0, 0, 0, 0, 0, 0, 0, 0, 0, 0, 0, 0, 4999999, 0, 0, 0, 0, 0, 0, 2000000, 0, 0, 0, 0, 0, 0, 0, 0, 0, 0, 0, 0, 0, 0, 0, 0, 0, 0, 0, 0, 0, 0, 0, 0, 0, 0, 0, 0, 0, 0, 0, 0, 0, 0, 0, 0, 0, 0, 0, 0, 0, 0, 0, 0, 0, 0, 0, 0, 0, 0, 0, 0, 0, 0, 0, 0, 0, 0, 0, 0, 0, 0, 0, 0, 0, 0, 0, 0, 0, 0, 0, 0, 0, 0, 0, 0, 0, 0, 0, 0, 0, 0, 0, 0, 0, 0, 0, 0, 0, 0, 0, 0, 0, 0, 0, 0, 0, 0, 0, 0, 0, 0, 0, 0, 0, 0, 0, 0, 0, 0, 0, 0, 0, 0, 0, 0, 0, 0, 0, 0, 0, 0, 0, 0, 0, 0, 0, 0, 0, 0, 0, 0, 0, 0, 0, 0, 0, 0, 0, 0, 0, 0, 0, 0, 0, 0, 0, 0, 0, 0, 0, 0, 0, 0, 0, 0, 0, 0, 0, 0, 0, 0, 0, 0, 0, 0, 0, 0, 0, 0, 0, 0, 0, 0, 0, 0, 0, 0, 0, 0, 0, 0, 0, 0, 0, 0, 0, 0, 0, 0, 0, 0, 0, 0, 0, 0, 0, 0, 0, 0, 0, 0, 0, 0, 0, 0, 0, 0, 0, 0, 0, 0, 0, 0, 0, 0, 0, 0, 0, 0, 0, 0, 0, 0, 0, 0, 0, 0, 0, 0, 0, 0, 0, 0, 0, 0, 0, 0, 0, 0, 0, 0, 0, 0, 0, 0, 0, 0, 0, 0, 0, 0]\n"
     ]
    }
   ],
   "source": [
    "def kmer_list(kmer_size):\n",
    "    return [''.join(i) for i in product(['A', 'R', 'N', 'D', 'C', 'Q', 'E', 'G', 'H', 'I', 'L',\n",
    "        'K', 'M', 'F', 'P', 'S', 'T', 'W', 'Y', 'V'], repeat = kmer_size)]\n",
    "\n",
    "def find_kmers(sequence_list, kmer_size, kmer_list):\n",
    "    \"\"\"\n",
    "    This function returns a dataframe of k-mers for each list of sequences \n",
    "    \"\"\"\n",
    "    list1 = []\n",
    "    # Iterating through sequences:\n",
    "    for s in sequence_list:\n",
    "        # Getting k-mers\n",
    "        list1.extend([s[i:i+kmer_size] for i in range(len(s)-kmer_size+1)])\n",
    "    return [list1.count(k) for k in kmer_list]\n",
    "       \n",
    "sequence = ['AGGAGAGGAGAG' * 1000000]\n",
    "kmer_list = kmer_list(2)\n",
    "start = time.time()\n",
    "kmers = find_kmers(sequence, 2, kmer_list)\n",
    "end = time.time()\n",
    "\n",
    "print(end - start)\n",
    "print(kmers)"
   ]
  },
  {
   "cell_type": "code",
   "execution_count": null,
   "metadata": {},
   "outputs": [],
   "source": []
  }
 ],
 "metadata": {
  "kernelspec": {
   "display_name": ".venv",
   "language": "python",
   "name": "python3"
  },
  "language_info": {
   "codemirror_mode": {
    "name": "ipython",
    "version": 3
   },
   "file_extension": ".py",
   "mimetype": "text/x-python",
   "name": "python",
   "nbconvert_exporter": "python",
   "pygments_lexer": "ipython3",
   "version": "3.10.4"
  },
  "orig_nbformat": 4
 },
 "nbformat": 4,
 "nbformat_minor": 2
}
